{
 "cells": [
  {
   "cell_type": "markdown",
   "id": "28365303",
   "metadata": {},
   "source": [
    "# Pregunta 2"
   ]
  },
  {
   "cell_type": "code",
   "execution_count": 1,
   "id": "5d249450",
   "metadata": {},
   "outputs": [
    {
     "name": "stdout",
     "output_type": "stream",
     "text": [
      "CWD cambiado a la raíz del proyecto: /home/epsilon/Documents/doctorado/S2/ENSTA630/tareas/HW2\n"
     ]
    }
   ],
   "source": [
    "from util import go_to_project_root\n",
    "go_to_project_root()"
   ]
  },
  {
   "cell_type": "code",
   "execution_count": 2,
   "id": "9a541355",
   "metadata": {},
   "outputs": [
    {
     "name": "stderr",
     "output_type": "stream",
     "text": [
      "/home/epsilon/.conda/envs/macro/lib/python3.12/site-packages/tqdm/auto.py:21: TqdmWarning: IProgress not found. Please update jupyter and ipywidgets. See https://ipywidgets.readthedocs.io/en/stable/user_install.html\n",
      "  from .autonotebook import tqdm as notebook_tqdm\n"
     ]
    }
   ],
   "source": [
    "import numpy as np\n",
    "import matplotlib.pyplot as plt \n",
    "import scipy.stats as stats\n",
    "import statsmodels.distributions.empirical_distribution as ECDF\n",
    "\n",
    "from source.data.transform import create_lagged_dataset\n",
    "from source.fit.montecarlo import monte_carlo_mp\n",
    "from source.fit.error import get_standard_error\n",
    "from source.models.ar import AutoRegressive\n",
    "from source.display.hw import hw1 as uplot\n",
    "from source.models.ols import OLS\n",
    "from source.statistics import calculate_autocovariance\n",
    "from source.fit.inference import test_F\n",
    "\n",
    "# from source.extention.pregunta2.source.models.autoregressive import AR\n",
    "# from source.extention.pregunta2.source.models.Inferencia import Inferencia_OLS\n",
    "# from source.extention.pregunta2.source.models.bootstrap import Bootstrap\n",
    "# from source.extention.pregunta2.source.utils.criticos import valores_criticos\n",
    "# from source.extention.pregunta2.source.utils.graficopdf import graficopdf\n",
    "# from source.extention.pregunta2.source.utils.graficochow import graficochow\n",
    "\n",
    "%load_ext autoreload\n",
    "%autoreload 2"
   ]
  },
  {
   "cell_type": "code",
   "execution_count": 3,
   "id": "c2c2cff2",
   "metadata": {},
   "outputs": [
    {
     "name": "stdout",
     "output_type": "stream",
     "text": [
      "==================================================\n",
      "               AR(2) Model Summary                \n",
      "==================================================\n",
      "Model Order              : 2\n",
      "Intercept (c)            : 1\n",
      "Error Std Dev (sigma)    : 0.2\n",
      "Is Stationary            : True\n",
      "Mu (Unc. Mean):          : 2.5\n",
      "Sigma (Unc. Std.)        : 0.27\n",
      "--------------------------------------------------\n",
      "Coefficients (phi):\n",
      "  phi_1    =  0.80\n",
      "  phi_2    = -0.20\n",
      "==================================================\n"
     ]
    },
    {
     "data": {
      "text/plain": [
       "array([0.075, 0.05 ])"
      ]
     },
     "execution_count": 3,
     "metadata": {},
     "output_type": "execute_result"
    }
   ],
   "source": [
    "phi = [0.8, -0.2]\n",
    "model = AutoRegressive(sigma=0.2, c=1, params_distribution=phi)\n",
    "print(model)\n",
    "model.get_autocovariance()"
   ]
  },
  {
   "cell_type": "code",
   "execution_count": 38,
   "id": "e2cfcd2b",
   "metadata": {},
   "outputs": [],
   "source": [
    "@monte_carlo_mp(n_iterations=1000, n_jobs=2)\n",
    "def simulation_p2(iteration, n_samples, lags=1):\n",
    "    phi = [0.8, -0.2]\n",
    "    model = AutoRegressive(sigma=0.2, c=1, params_distribution=phi)\n",
    "    X = model.sample(n_samples=n_samples+lags) # por el rezago\n",
    "    # Calcular momentos\n",
    "    moment_1 = np.mean(X)\n",
    "    moment_2 = np.var(X)\n",
    "    y_prev, y_curr = create_lagged_dataset(X, lag=lags, add_intercept=True)\n",
    "\n",
    "    # OLS \n",
    "    ols_model = OLS()\n",
    "    ols_model.fit(y_prev, y_curr)\n",
    "    y_pred = ols_model.predict(y_prev)\n",
    "    currsigma = get_standard_error(y_prev, y_pred, y_curr)\n",
    "\n",
    "    # Test F \n",
    "    R = np.array([\n",
    "        [1, 0, 0],\n",
    "        [0, 1, 4]\n",
    "    ])\n",
    "    H0 = np.array([1, 0])\n",
    "    f_stat, p_valor = test_F(ols_model, \n",
    "                             X=y_prev, \n",
    "                             y_true=y_curr, \n",
    "                             R=R, \n",
    "                             q=H0)\n",
    "    \n",
    "    return {'mean': moment_1, \n",
    "            \"variance\": moment_2, \n",
    "            \"sigma_hat\":currsigma,\n",
    "            \"f_stat\": f_stat, \n",
    "            \"p_valor\": p_valor,\n",
    "            \"serie\":X, \n",
    "            'y_prev':y_prev,\n",
    "            'y_prev':y_prev} "
   ]
  },
  {
   "cell_type": "code",
   "execution_count": 39,
   "id": "1a4ea8b9",
   "metadata": {},
   "outputs": [
    {
     "name": "stdout",
     "output_type": "stream",
     "text": [
      "Iniciando simulación paralela con 1000 iteraciones en 2 procesos...\n"
     ]
    },
    {
     "name": "stderr",
     "output_type": "stream",
     "text": [
      "Simulación Monte Carlo: 100%|██████████| 1000/1000 [00:00<00:00, 1050.91it/s]\n"
     ]
    }
   ],
   "source": [
    "results = simulation_p2(n_samples=100, lags=2)"
   ]
  },
  {
   "cell_type": "code",
   "execution_count": 40,
   "id": "a94d2a0f",
   "metadata": {},
   "outputs": [
    {
     "data": {
      "text/plain": [
       "(np.float64(2.5002108287702387), np.float64(0.07371935919748843))"
      ]
     },
     "execution_count": 40,
     "metadata": {},
     "output_type": "execute_result"
    }
   ],
   "source": [
    "np.mean(results['mean']), np.mean(results['variance'])"
   ]
  },
  {
   "cell_type": "code",
   "execution_count": 41,
   "id": "1ad7ce3f",
   "metadata": {},
   "outputs": [
    {
     "data": {
      "text/plain": [
       "array([ 7.500e-02,  5.000e-02,  2.500e-02,  1.000e-02,  3.000e-03,\n",
       "        4.000e-04, -2.800e-04, -3.040e-04, -1.872e-04, -8.896e-05])"
      ]
     },
     "execution_count": 41,
     "metadata": {},
     "output_type": "execute_result"
    }
   ],
   "source": [
    "model.extend_autocovariance(10)"
   ]
  },
  {
   "cell_type": "code",
   "execution_count": 42,
   "id": "9a5a4a28",
   "metadata": {},
   "outputs": [
    {
     "data": {
      "text/plain": [
       "array([ 0.09498612,  0.06360747,  0.03251255,  0.00929678, -0.00430704,\n",
       "       -0.01554857, -0.02128817, -0.01727341, -0.00771494,  0.00627576])"
      ]
     },
     "execution_count": 42,
     "metadata": {},
     "output_type": "execute_result"
    }
   ],
   "source": [
    "calculate_autocovariance(results['serie'][0], lag=10)"
   ]
  },
  {
   "cell_type": "code",
   "execution_count": 43,
   "id": "d7560a13",
   "metadata": {},
   "outputs": [
    {
     "data": {
      "image/png": "[encoded data removed]",
      "text/plain": [
       "<Figure size 1000x400 with 2 Axes>"
      ]
     },
     "metadata": {},
     "output_type": "display_data"
    },
    {
     "name": "stdout",
     "output_type": "stream",
     "text": [
      "✅ Figura guardada exitosamente en ./presentation/figures/hw1/p2/densidades_1.pdf\n"
     ]
    }
   ],
   "source": [
    "# Parametros de la Distribución Empírica Acumulada ECDF\n",
    "x1 = np.sort(results['mean'])  # Ordeno los datos\n",
    "n = x1.size\n",
    "y1 = np.arange(1, n+1) / n\n",
    "\n",
    "# Parametros de la distribucion de la varianza\n",
    "x2 = np.sort(results['variance'])  # Ordeno los datos\n",
    "n = x2.size\n",
    "y2 = np.arange(1, n+1) / n\n",
    "\n",
    "fig, axes = plt.subplots(1, 2, figsize=(10, 4))\n",
    "# Parámetros de la Distribución F Acumulada\n",
    "uplot.plot_empirical_distribution(\n",
    "    mean_samples=results['mean'],\n",
    "    var_samples=results['variance'],\n",
    "    model_name=\"ARMA(p,q) Simulado\",\n",
    "    fig=fig,\n",
    "    axes=axes\n",
    ")\n",
    "\n",
    "uplot.save_figure(fig, './presentation/figures/hw1/p2/densidades_1.pdf')"
   ]
  },
  {
   "cell_type": "code",
   "execution_count": 44,
   "id": "a40deeeb",
   "metadata": {},
   "outputs": [],
   "source": [
    "critic_value_1  = np.percentile(results['f_stat'], 99)\n",
    "critic_value_5  = np.percentile(results['f_stat'], 95)\n",
    "critic_value_10 = np.percentile(results['f_stat'], 90)"
   ]
  },
  {
   "cell_type": "code",
   "execution_count": 45,
   "id": "81468199",
   "metadata": {},
   "outputs": [
    {
     "name": "stdout",
     "output_type": "stream",
     "text": [
      "Valor crítico al 1%: 47.11387145082829\n",
      "Valor crítico al 5%: 39.290093409699985\n",
      "Valor crítico al 10%: 37.18809688223511\n"
     ]
    }
   ],
   "source": [
    "print(\"Valor crítico al 1%:\", critic_value_1)\n",
    "print(\"Valor crítico al 5%:\", critic_value_5)\n",
    "print(\"Valor crítico al 10%:\", critic_value_10)"
   ]
  },
  {
   "cell_type": "code",
   "execution_count": null,
   "id": "b44b6169",
   "metadata": {},
   "outputs": [],
   "source": []
  }
 ],
 "metadata": {
  "kernelspec": {
   "display_name": "macro",
   "language": "python",
   "name": "python3"
  },
  "language_info": {
   "codemirror_mode": {
    "name": "ipython",
    "version": 3
   },
   "file_extension": ".py",
   "mimetype": "text/x-python",
   "name": "python",
   "nbconvert_exporter": "python",
   "pygments_lexer": "ipython3",
   "version": "3.12.3"
  }
 },
 "nbformat": 4,
 "nbformat_minor": 5
}
