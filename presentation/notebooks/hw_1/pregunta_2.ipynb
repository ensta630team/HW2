{
 "cells": [
  {
   "cell_type": "markdown",
   "id": "28365303",
   "metadata": {},
   "source": [
    "# Pregunta 2"
   ]
  },
  {
   "cell_type": "code",
   "execution_count": 1,
   "id": "5d249450",
   "metadata": {},
   "outputs": [
    {
     "name": "stdout",
     "output_type": "stream",
     "text": [
      "CWD cambiado a la raíz del proyecto: /home/epsilon/Documents/doctorado/S2/ENSTA630/tareas/HW2\n"
     ]
    }
   ],
   "source": [
    "from util import go_to_project_root\n",
    "go_to_project_root()"
   ]
  },
  {
   "cell_type": "code",
   "execution_count": 41,
   "id": "9a541355",
   "metadata": {},
   "outputs": [
    {
     "name": "stdout",
     "output_type": "stream",
     "text": [
      "The autoreload extension is already loaded. To reload it, use:\n",
      "  %reload_ext autoreload\n"
     ]
    }
   ],
   "source": [
    "import numpy as np\n",
    "import matplotlib.pyplot as plt \n",
    "import scipy.stats as stats\n",
    "import statsmodels.distributions.empirical_distribution as ECDF\n",
    "\n",
    "from source.display.hw import hw1 as uplot\n",
    "from source.fit.error import get_standard_error\n",
    "from source.models.ar import AutoRegressive\n",
    "from source.models.ols import OLS\n",
    "from source.fit.montecarlo import monte_carlo_mp\n",
    "from source.data.transform import create_lagged_dataset\n",
    "\n",
    "\n",
    "# from source.extention.pregunta2.source.models.autoregressive import AR\n",
    "# from source.extention.pregunta2.source.models.Inferencia import Inferencia_OLS\n",
    "# from source.extention.pregunta2.source.models.bootstrap import Bootstrap\n",
    "# from source.extention.pregunta2.source.utils.criticos import valores_criticos\n",
    "# from source.extention.pregunta2.source.utils.graficopdf import graficopdf\n",
    "# from source.extention.pregunta2.source.utils.graficochow import graficochow\n",
    "\n",
    "%load_ext autoreload\n",
    "%autoreload 2"
   ]
  },
  {
   "cell_type": "code",
   "execution_count": 33,
   "id": "c2c2cff2",
   "metadata": {},
   "outputs": [
    {
     "name": "stdout",
     "output_type": "stream",
     "text": [
      "==================================================\n",
      "               AR(2) Model Summary                \n",
      "==================================================\n",
      "Model Order              : 2\n",
      "Intercept (c)            : 1\n",
      "Error Std Dev (sigma)    : 0.2\n",
      "Is Stationary            : True\n",
      "Mu (Unc. Mean):          : 2.5\n",
      "Sigma (Unc. Std.)        : 0.27\n",
      "--------------------------------------------------\n",
      "Coefficients (phi):\n",
      "  phi_1    =  0.80\n",
      "  phi_2    = -0.20\n",
      "==================================================\n"
     ]
    },
    {
     "data": {
      "text/plain": [
       "array([0.075, 0.05 ])"
      ]
     },
     "execution_count": 33,
     "metadata": {},
     "output_type": "execute_result"
    }
   ],
   "source": [
    "phi = [0.8, -0.2]\n",
    "model = AutoRegressive(sigma=0.2, c=1, params_distribution=phi)\n",
    "print(model)\n",
    "model.get_autocovariance()"
   ]
  },
  {
   "cell_type": "code",
   "execution_count": 47,
   "id": "b7461b04",
   "metadata": {},
   "outputs": [
    {
     "data": {
      "text/plain": [
       "array([0.21257379, 0.21577446])"
      ]
     },
     "execution_count": 47,
     "metadata": {},
     "output_type": "execute_result"
    }
   ],
   "source": [
    "X = model.sample(n_samples=10)\n",
    "y_prev, y_curr = create_lagged_dataset(X, lag=2)\n",
    "ols_model = OLS()\n",
    "ols_model.fit(y_prev, y_curr)\n",
    "y_pred = ols_model.predict(y_prev)\n",
    "get_standard_error(y_prev, y_pred, y_curr)"
   ]
  },
  {
   "cell_type": "code",
   "execution_count": 51,
   "id": "e2cfcd2b",
   "metadata": {},
   "outputs": [],
   "source": [
    "@monte_carlo_mp(n_iterations=500, n_jobs=-1)\n",
    "def simulation_p2(model, n_samples_per_run, lags=1):\n",
    "    X = model.sample(n_samples=n_samples_per_run+lags) # por el rezago\n",
    "    # Calcular momentos\n",
    "    moment_1 = np.mean(X)\n",
    "    moment_2 = np.var(X)\n",
    "    y_prev, y_curr = create_lagged_dataset(X, lag=lags)\n",
    "\n",
    "    # OLS \n",
    "    ols_model = OLS()\n",
    "    ols_model.fit(y_prev, y_curr)\n",
    "    y_pred = ols_model.predict(y_prev)\n",
    "    currsigma = get_standard_error(y_prev, y_pred, y_curr)\n",
    "\n",
    "    return moment_1, moment_2, currsigma"
   ]
  },
  {
   "cell_type": "code",
   "execution_count": 52,
   "id": "1a4ea8b9",
   "metadata": {},
   "outputs": [
    {
     "name": "stdout",
     "output_type": "stream",
     "text": [
      "Iniciando simulación paralela con 500 iteraciones en 8 procesos...\n"
     ]
    },
    {
     "name": "stderr",
     "output_type": "stream",
     "text": [
      "Simulación Monte Carlo:   0%|          | 0/500 [00:00<?, ?it/s]\n"
     ]
    },
    {
     "ename": "PicklingError",
     "evalue": "Can't pickle <function simulation_p2 at 0x7a3b0921e340>: it's not the same object as __main__.simulation_p2",
     "output_type": "error",
     "traceback": [
      "\u001b[31m---------------------------------------------------------------------------\u001b[39m",
      "\u001b[31mPicklingError\u001b[39m                             Traceback (most recent call last)",
      "\u001b[36mCell\u001b[39m\u001b[36m \u001b[39m\u001b[32mIn[52]\u001b[39m\u001b[32m, line 1\u001b[39m\n\u001b[32m----> \u001b[39m\u001b[32m1\u001b[39m \u001b[43msimulation_p2\u001b[49m\u001b[43m(\u001b[49m\u001b[43mmodel\u001b[49m\u001b[43m,\u001b[49m\u001b[43m \u001b[49m\u001b[43mn_samples_per_run\u001b[49m\u001b[43m=\u001b[49m\u001b[32;43m10\u001b[39;49m\u001b[43m,\u001b[49m\u001b[43m \u001b[49m\u001b[43mlags\u001b[49m\u001b[43m=\u001b[49m\u001b[32;43m2\u001b[39;49m\u001b[43m)\u001b[49m\n",
      "\u001b[36mFile \u001b[39m\u001b[32m~/Documents/doctorado/S2/ENSTA630/tareas/HW2/source/fit/montecarlo.py:31\u001b[39m, in \u001b[36mmonte_carlo_mp.<locals>.decorator.<locals>.wrapper\u001b[39m\u001b[34m(*args, **kwargs)\u001b[39m\n\u001b[32m     29\u001b[39m \u001b[38;5;66;03m# Creamos el pool de procesos\u001b[39;00m\n\u001b[32m     30\u001b[39m \u001b[38;5;28;01mwith\u001b[39;00m multiprocessing.Pool(processes=num_processes) \u001b[38;5;28;01mas\u001b[39;00m pool:\n\u001b[32m---> \u001b[39m\u001b[32m31\u001b[39m     results = \u001b[38;5;28;43mlist\u001b[39;49m\u001b[43m(\u001b[49m\u001b[43mtqdm\u001b[49m\u001b[43m(\u001b[49m\u001b[43mpool\u001b[49m\u001b[43m.\u001b[49m\u001b[43mimap\u001b[49m\u001b[43m(\u001b[49m\u001b[43mworker_func\u001b[49m\u001b[43m,\u001b[49m\u001b[43m \u001b[49m\u001b[38;5;28;43mrange\u001b[39;49m\u001b[43m(\u001b[49m\u001b[43mn_iterations\u001b[49m\u001b[43m)\u001b[49m\u001b[43m)\u001b[49m\u001b[43m,\u001b[49m\u001b[43m \u001b[49m\n\u001b[32m     32\u001b[39m \u001b[43m                        \u001b[49m\u001b[43mtotal\u001b[49m\u001b[43m=\u001b[49m\u001b[43mn_iterations\u001b[49m\u001b[43m,\u001b[49m\u001b[43m \u001b[49m\n\u001b[32m     33\u001b[39m \u001b[43m                        \u001b[49m\u001b[43mdesc\u001b[49m\u001b[43m=\u001b[49m\u001b[33;43m\"\u001b[39;49m\u001b[33;43mSimulación Monte Carlo\u001b[39;49m\u001b[33;43m\"\u001b[39;49m\u001b[43m)\u001b[49m\u001b[43m)\u001b[49m\n\u001b[32m     35\u001b[39m \u001b[38;5;28;01mreturn\u001b[39;00m results\n",
      "\u001b[36mFile \u001b[39m\u001b[32m~/.conda/envs/macro/lib/python3.12/site-packages/tqdm/std.py:1181\u001b[39m, in \u001b[36mtqdm.__iter__\u001b[39m\u001b[34m(self)\u001b[39m\n\u001b[32m   1178\u001b[39m time = \u001b[38;5;28mself\u001b[39m._time\n\u001b[32m   1180\u001b[39m \u001b[38;5;28;01mtry\u001b[39;00m:\n\u001b[32m-> \u001b[39m\u001b[32m1181\u001b[39m \u001b[43m    \u001b[49m\u001b[38;5;28;43;01mfor\u001b[39;49;00m\u001b[43m \u001b[49m\u001b[43mobj\u001b[49m\u001b[43m \u001b[49m\u001b[38;5;129;43;01min\u001b[39;49;00m\u001b[43m \u001b[49m\u001b[43miterable\u001b[49m\u001b[43m:\u001b[49m\n\u001b[32m   1182\u001b[39m \u001b[43m        \u001b[49m\u001b[38;5;28;43;01myield\u001b[39;49;00m\u001b[43m \u001b[49m\u001b[43mobj\u001b[49m\n\u001b[32m   1183\u001b[39m \u001b[43m        \u001b[49m\u001b[38;5;66;43;03m# Update and possibly print the progressbar.\u001b[39;49;00m\n\u001b[32m   1184\u001b[39m \u001b[43m        \u001b[49m\u001b[38;5;66;43;03m# Note: does not call self.update(1) for speed optimisation.\u001b[39;49;00m\n",
      "\u001b[36mFile \u001b[39m\u001b[32m~/.conda/envs/macro/lib/python3.12/multiprocessing/pool.py:873\u001b[39m, in \u001b[36mIMapIterator.next\u001b[39m\u001b[34m(self, timeout)\u001b[39m\n\u001b[32m    871\u001b[39m \u001b[38;5;28;01mif\u001b[39;00m success:\n\u001b[32m    872\u001b[39m     \u001b[38;5;28;01mreturn\u001b[39;00m value\n\u001b[32m--> \u001b[39m\u001b[32m873\u001b[39m \u001b[38;5;28;01mraise\u001b[39;00m value\n",
      "\u001b[36mFile \u001b[39m\u001b[32m~/.conda/envs/macro/lib/python3.12/multiprocessing/pool.py:540\u001b[39m, in \u001b[36mPool._handle_tasks\u001b[39m\u001b[34m(taskqueue, put, outqueue, pool, cache)\u001b[39m\n\u001b[32m    538\u001b[39m     \u001b[38;5;28;01mbreak\u001b[39;00m\n\u001b[32m    539\u001b[39m \u001b[38;5;28;01mtry\u001b[39;00m:\n\u001b[32m--> \u001b[39m\u001b[32m540\u001b[39m     \u001b[43mput\u001b[49m\u001b[43m(\u001b[49m\u001b[43mtask\u001b[49m\u001b[43m)\u001b[49m\n\u001b[32m    541\u001b[39m \u001b[38;5;28;01mexcept\u001b[39;00m \u001b[38;5;167;01mException\u001b[39;00m \u001b[38;5;28;01mas\u001b[39;00m e:\n\u001b[32m    542\u001b[39m     job, idx = task[:\u001b[32m2\u001b[39m]\n",
      "\u001b[36mFile \u001b[39m\u001b[32m~/.conda/envs/macro/lib/python3.12/multiprocessing/connection.py:206\u001b[39m, in \u001b[36m_ConnectionBase.send\u001b[39m\u001b[34m(self, obj)\u001b[39m\n\u001b[32m    204\u001b[39m \u001b[38;5;28mself\u001b[39m._check_closed()\n\u001b[32m    205\u001b[39m \u001b[38;5;28mself\u001b[39m._check_writable()\n\u001b[32m--> \u001b[39m\u001b[32m206\u001b[39m \u001b[38;5;28mself\u001b[39m._send_bytes(\u001b[43m_ForkingPickler\u001b[49m\u001b[43m.\u001b[49m\u001b[43mdumps\u001b[49m\u001b[43m(\u001b[49m\u001b[43mobj\u001b[49m\u001b[43m)\u001b[49m)\n",
      "\u001b[36mFile \u001b[39m\u001b[32m~/.conda/envs/macro/lib/python3.12/multiprocessing/reduction.py:51\u001b[39m, in \u001b[36mForkingPickler.dumps\u001b[39m\u001b[34m(cls, obj, protocol)\u001b[39m\n\u001b[32m     48\u001b[39m \u001b[38;5;129m@classmethod\u001b[39m\n\u001b[32m     49\u001b[39m \u001b[38;5;28;01mdef\u001b[39;00m\u001b[38;5;250m \u001b[39m\u001b[34mdumps\u001b[39m(\u001b[38;5;28mcls\u001b[39m, obj, protocol=\u001b[38;5;28;01mNone\u001b[39;00m):\n\u001b[32m     50\u001b[39m     buf = io.BytesIO()\n\u001b[32m---> \u001b[39m\u001b[32m51\u001b[39m     \u001b[38;5;28;43mcls\u001b[39;49m\u001b[43m(\u001b[49m\u001b[43mbuf\u001b[49m\u001b[43m,\u001b[49m\u001b[43m \u001b[49m\u001b[43mprotocol\u001b[49m\u001b[43m)\u001b[49m\u001b[43m.\u001b[49m\u001b[43mdump\u001b[49m\u001b[43m(\u001b[49m\u001b[43mobj\u001b[49m\u001b[43m)\u001b[49m\n\u001b[32m     52\u001b[39m     \u001b[38;5;28;01mreturn\u001b[39;00m buf.getbuffer()\n",
      "\u001b[31mPicklingError\u001b[39m: Can't pickle <function simulation_p2 at 0x7a3b0921e340>: it's not the same object as __main__.simulation_p2"
     ]
    }
   ],
   "source": [
    "simulation_p2(model, n_samples_per_run=10, lags=2)"
   ]
  },
  {
   "cell_type": "code",
   "execution_count": null,
   "id": "558da013",
   "metadata": {},
   "outputs": [],
   "source": [
    "np.random.seed(42)\n",
    "# PREGUNTA 2.A: SIMULACIONES\n",
    "R = np.array([[1,0,0], [0,1,4]]) # Restricciones\n",
    "H0 = np.array([1,0]) # Valores bajo H0\n",
    "\n",
    "simulaciones = []\n",
    "inferencias = []\n",
    "medias_iteraciones = []\n",
    "varianza_iteraciones = []\n",
    "for i in range(1000):\n",
    "  muestra_actual = model.sample(n_samples=100)\n",
    "  simulaciones.append(muestra_actual)\n",
    "  muestra_actual = simulaciones[i]\n",
    "  inferencia = Inferencia_OLS(muestra=muestra_actual, rezagos=2)\n",
    "  inferencias.append(inferencia)\n",
    "  medias_iteraciones.append(inferencia.get_momento1())\n",
    "  varianza_iteraciones.append(inferencia.get_momento2())\n",
    "\n",
    "\n",
    "# Para obtener el momento 1 estimado con Monte Carlo\n",
    "momento1_estimado = np.mean(medias_iteraciones)\n",
    "# Obtenemos la varianza estimada\n",
    "momento2_estimado = np.mean(varianza_iteraciones)"
   ]
  }
 ],
 "metadata": {
  "kernelspec": {
   "display_name": "macro",
   "language": "python",
   "name": "python3"
  },
  "language_info": {
   "codemirror_mode": {
    "name": "ipython",
    "version": 3
   },
   "file_extension": ".py",
   "mimetype": "text/x-python",
   "name": "python",
   "nbconvert_exporter": "python",
   "pygments_lexer": "ipython3",
   "version": "3.12.3"
  }
 },
 "nbformat": 4,
 "nbformat_minor": 5
}
