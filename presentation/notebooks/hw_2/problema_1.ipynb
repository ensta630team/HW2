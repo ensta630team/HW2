{
 "cells": [
  {
   "cell_type": "code",
   "execution_count": 1,
   "id": "95015267",
   "metadata": {},
   "outputs": [
    {
     "name": "stdout",
     "output_type": "stream",
     "text": [
      "CWD cambiado a la raíz del proyecto: /home/epsilon/Documents/doctorado/S2/ENSTA630/tareas/HW2\n"
     ]
    }
   ],
   "source": [
    "from util import go_to_project_root\n",
    "go_to_project_root()"
   ]
  },
  {
   "cell_type": "markdown",
   "id": "a5cdf151",
   "metadata": {},
   "source": [
    "# Problema 1"
   ]
  },
  {
   "cell_type": "code",
   "execution_count": 2,
   "id": "40cedf11",
   "metadata": {},
   "outputs": [],
   "source": [
    "import numpy as np\n",
    "from source.data.loaders import create_dataset\n",
    "from source.models.var import VAR\n",
    "\n",
    "%load_ext autoreload\n",
    "%autoreload 2"
   ]
  },
  {
   "cell_type": "markdown",
   "id": "10a3fef2",
   "metadata": {},
   "source": [
    "### Cargar datos"
   ]
  },
  {
   "cell_type": "code",
   "execution_count": 27,
   "id": "c9a53c9a",
   "metadata": {},
   "outputs": [
    {
     "name": "stdout",
     "output_type": "stream",
     "text": [
      "[INFO] ¡Datos cargados exitosamente!\n"
     ]
    }
   ],
   "source": [
    "path = './data/base_25.xls'\n",
    "dataset = create_dataset(path, problem=5)"
   ]
  },
  {
   "cell_type": "code",
   "execution_count": 28,
   "id": "5b29a42a",
   "metadata": {},
   "outputs": [],
   "source": [
    "i_reshaped = dataset['i'][12:]\n",
    "X = np.vstack([dataset['pi'], dataset['y'], i_reshaped]).T"
   ]
  },
  {
   "cell_type": "code",
   "execution_count": null,
   "id": "9e4ecfa1",
   "metadata": {},
   "outputs": [
    {
     "name": "stdout",
     "output_type": "stream",
     "text": [
      "Repitiendo el valor de c\n"
     ]
    },
    {
     "data": {
      "text/plain": [
       "np.True_"
      ]
     },
     "execution_count": 114,
     "metadata": {},
     "output_type": "execute_result"
    }
   ],
   "source": [
    "n = 3 # numero de variables\n",
    "p = 2 # rezagos\n",
    "\n",
    "model = VAR(inp_dim=n, \n",
    "            c = 0,\n",
    "            p=p, \n",
    "            params_distribution='stationary', low=0, high=1)\n",
    "model._is_stationary()"
   ]
  },
  {
   "cell_type": "code",
   "execution_count": null,
   "id": "68bc87c7",
   "metadata": {},
   "outputs": [],
   "source": []
  },
  {
   "cell_type": "code",
   "execution_count": null,
   "id": "526c8663",
   "metadata": {},
   "outputs": [],
   "source": []
  },
  {
   "cell_type": "code",
   "execution_count": null,
   "id": "2161bc9b",
   "metadata": {},
   "outputs": [],
   "source": []
  },
  {
   "cell_type": "code",
   "execution_count": null,
   "id": "6dcfd4d5",
   "metadata": {},
   "outputs": [],
   "source": []
  },
  {
   "cell_type": "code",
   "execution_count": null,
   "id": "518ccb26",
   "metadata": {},
   "outputs": [],
   "source": [
    "\n"
   ]
  },
  {
   "cell_type": "code",
   "execution_count": null,
   "id": "6bc5e933",
   "metadata": {},
   "outputs": [],
   "source": []
  }
 ],
 "metadata": {
  "kernelspec": {
   "display_name": "macro",
   "language": "python",
   "name": "python3"
  },
  "language_info": {
   "codemirror_mode": {
    "name": "ipython",
    "version": 3
   },
   "file_extension": ".py",
   "mimetype": "text/x-python",
   "name": "python",
   "nbconvert_exporter": "python",
   "pygments_lexer": "ipython3",
   "version": "3.12.3"
  }
 },
 "nbformat": 4,
 "nbformat_minor": 5
}
